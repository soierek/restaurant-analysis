{
 "cells": [
  {
   "cell_type": "code",
   "execution_count": 1,
   "metadata": {},
   "outputs": [],
   "source": [
    "import pandas as pd\n",
    "import numpy as np\n",
    "import matplotlib.pyplot as plt"
   ]
  },
  {
   "cell_type": "code",
   "execution_count": 2,
   "metadata": {},
   "outputs": [],
   "source": [
    "df = pd.read_csv(\"data/Future50.csv\")"
   ]
  },
  {
   "cell_type": "code",
   "execution_count": 3,
   "metadata": {},
   "outputs": [
    {
     "name": "stdout",
     "output_type": "stream",
     "text": [
      "<class 'pandas.core.frame.DataFrame'>\n",
      "RangeIndex: 50 entries, 0 to 49\n",
      "Data columns (total 9 columns):\n",
      " #   Column       Non-Null Count  Dtype \n",
      "---  ------       --------------  ----- \n",
      " 0   Rank         50 non-null     int64 \n",
      " 1   Restaurant   50 non-null     object\n",
      " 2   Location     50 non-null     object\n",
      " 3   Sales        50 non-null     int64 \n",
      " 4   YOY_Sales    50 non-null     object\n",
      " 5   Units        50 non-null     int64 \n",
      " 6   YOY_Units    50 non-null     object\n",
      " 7   Unit_Volume  50 non-null     int64 \n",
      " 8   Franchising  50 non-null     object\n",
      "dtypes: int64(4), object(5)\n",
      "memory usage: 2.6+ KB\n"
     ]
    }
   ],
   "source": [
    "df.info()"
   ]
  },
  {
   "cell_type": "code",
   "execution_count": 8,
   "metadata": {},
   "outputs": [
    {
     "data": {
      "text/html": [
       "<div>\n",
       "<style scoped>\n",
       "    .dataframe tbody tr th:only-of-type {\n",
       "        vertical-align: middle;\n",
       "    }\n",
       "\n",
       "    .dataframe tbody tr th {\n",
       "        vertical-align: top;\n",
       "    }\n",
       "\n",
       "    .dataframe thead th {\n",
       "        text-align: right;\n",
       "    }\n",
       "</style>\n",
       "<table border=\"1\" class=\"dataframe\">\n",
       "  <thead>\n",
       "    <tr style=\"text-align: right;\">\n",
       "      <th></th>\n",
       "      <th>Rank</th>\n",
       "      <th>Restaurant</th>\n",
       "      <th>Location</th>\n",
       "      <th>Sales</th>\n",
       "      <th>YOY_Sales</th>\n",
       "      <th>Units</th>\n",
       "      <th>YOY_Units</th>\n",
       "      <th>Unit_Volume</th>\n",
       "      <th>Franchising</th>\n",
       "      <th>State</th>\n",
       "    </tr>\n",
       "  </thead>\n",
       "  <tbody>\n",
       "    <tr>\n",
       "      <th>0</th>\n",
       "      <td>1</td>\n",
       "      <td>Evergreens</td>\n",
       "      <td>Seattle, Wash.</td>\n",
       "      <td>24</td>\n",
       "      <td>130.5%</td>\n",
       "      <td>26</td>\n",
       "      <td>116.7%</td>\n",
       "      <td>1150</td>\n",
       "      <td>No</td>\n",
       "      <td>Wash.</td>\n",
       "    </tr>\n",
       "    <tr>\n",
       "      <th>1</th>\n",
       "      <td>2</td>\n",
       "      <td>Clean Juice</td>\n",
       "      <td>Charlotte, N.C.</td>\n",
       "      <td>44</td>\n",
       "      <td>121.9%</td>\n",
       "      <td>105</td>\n",
       "      <td>94.4%</td>\n",
       "      <td>560</td>\n",
       "      <td>Yes</td>\n",
       "      <td>N.C.</td>\n",
       "    </tr>\n",
       "    <tr>\n",
       "      <th>2</th>\n",
       "      <td>3</td>\n",
       "      <td>Slapfish</td>\n",
       "      <td>Huntington Beach, Calif.</td>\n",
       "      <td>21</td>\n",
       "      <td>81.0%</td>\n",
       "      <td>21</td>\n",
       "      <td>90.9%</td>\n",
       "      <td>1370</td>\n",
       "      <td>Yes</td>\n",
       "      <td>Calif.</td>\n",
       "    </tr>\n",
       "    <tr>\n",
       "      <th>3</th>\n",
       "      <td>4</td>\n",
       "      <td>Clean Eatz</td>\n",
       "      <td>Wilmington, N.C.</td>\n",
       "      <td>25</td>\n",
       "      <td>79.7%</td>\n",
       "      <td>46</td>\n",
       "      <td>58.6%</td>\n",
       "      <td>685</td>\n",
       "      <td>Yes</td>\n",
       "      <td>N.C.</td>\n",
       "    </tr>\n",
       "    <tr>\n",
       "      <th>4</th>\n",
       "      <td>5</td>\n",
       "      <td>Pokeworks</td>\n",
       "      <td>Irvine, Calif.</td>\n",
       "      <td>49</td>\n",
       "      <td>77.1%</td>\n",
       "      <td>50</td>\n",
       "      <td>56.3%</td>\n",
       "      <td>1210</td>\n",
       "      <td>Yes</td>\n",
       "      <td>Calif.</td>\n",
       "    </tr>\n",
       "    <tr>\n",
       "      <th>5</th>\n",
       "      <td>6</td>\n",
       "      <td>Playa Bowls</td>\n",
       "      <td>Belmar,  N.J.</td>\n",
       "      <td>39</td>\n",
       "      <td>62.9%</td>\n",
       "      <td>76</td>\n",
       "      <td>28.8%</td>\n",
       "      <td>580</td>\n",
       "      <td>Yes</td>\n",
       "      <td>N.J.</td>\n",
       "    </tr>\n",
       "    <tr>\n",
       "      <th>6</th>\n",
       "      <td>7</td>\n",
       "      <td>The Simple Greek</td>\n",
       "      <td>Blue Bell, Pa.</td>\n",
       "      <td>24</td>\n",
       "      <td>52.5%</td>\n",
       "      <td>36</td>\n",
       "      <td>33.3%</td>\n",
       "      <td>775</td>\n",
       "      <td>Yes</td>\n",
       "      <td>Pa.</td>\n",
       "    </tr>\n",
       "    <tr>\n",
       "      <th>7</th>\n",
       "      <td>8</td>\n",
       "      <td>Melt Shop</td>\n",
       "      <td>New York, N.Y.</td>\n",
       "      <td>20</td>\n",
       "      <td>39.6%</td>\n",
       "      <td>19</td>\n",
       "      <td>35.7%</td>\n",
       "      <td>1260</td>\n",
       "      <td>Yes</td>\n",
       "      <td>N.Y.</td>\n",
       "    </tr>\n",
       "    <tr>\n",
       "      <th>8</th>\n",
       "      <td>9</td>\n",
       "      <td>Creamistry</td>\n",
       "      <td>Yorba Linda,  Calif.</td>\n",
       "      <td>24</td>\n",
       "      <td>36.8%</td>\n",
       "      <td>60</td>\n",
       "      <td>27.7%</td>\n",
       "      <td>465</td>\n",
       "      <td>Yes</td>\n",
       "      <td>Calif.</td>\n",
       "    </tr>\n",
       "    <tr>\n",
       "      <th>9</th>\n",
       "      <td>10</td>\n",
       "      <td>Joella's Hot Chicken</td>\n",
       "      <td>Louisville, Ky.</td>\n",
       "      <td>29</td>\n",
       "      <td>35.5%</td>\n",
       "      <td>17</td>\n",
       "      <td>30.8%</td>\n",
       "      <td>1930</td>\n",
       "      <td>No</td>\n",
       "      <td>Ky.</td>\n",
       "    </tr>\n",
       "  </tbody>\n",
       "</table>\n",
       "</div>"
      ],
      "text/plain": [
       "   Rank            Restaurant                  Location  Sales YOY_Sales  \\\n",
       "0     1            Evergreens            Seattle, Wash.     24    130.5%   \n",
       "1     2           Clean Juice           Charlotte, N.C.     44    121.9%   \n",
       "2     3              Slapfish  Huntington Beach, Calif.     21     81.0%   \n",
       "3     4            Clean Eatz          Wilmington, N.C.     25     79.7%   \n",
       "4     5             Pokeworks            Irvine, Calif.     49     77.1%   \n",
       "5     6           Playa Bowls             Belmar,  N.J.     39     62.9%   \n",
       "6     7      The Simple Greek            Blue Bell, Pa.     24     52.5%   \n",
       "7     8             Melt Shop            New York, N.Y.     20     39.6%   \n",
       "8     9            Creamistry      Yorba Linda,  Calif.     24     36.8%   \n",
       "9    10  Joella's Hot Chicken           Louisville, Ky.     29     35.5%   \n",
       "\n",
       "   Units YOY_Units  Unit_Volume Franchising   State  \n",
       "0     26    116.7%         1150          No   Wash.  \n",
       "1    105     94.4%          560         Yes    N.C.  \n",
       "2     21     90.9%         1370         Yes  Calif.  \n",
       "3     46     58.6%          685         Yes    N.C.  \n",
       "4     50     56.3%         1210         Yes  Calif.  \n",
       "5     76     28.8%          580         Yes    N.J.  \n",
       "6     36     33.3%          775         Yes     Pa.  \n",
       "7     19     35.7%         1260         Yes    N.Y.  \n",
       "8     60     27.7%          465         Yes  Calif.  \n",
       "9     17     30.8%         1930          No     Ky.  "
      ]
     },
     "execution_count": 8,
     "metadata": {},
     "output_type": "execute_result"
    }
   ],
   "source": [
    "df.head(10)"
   ]
  },
  {
   "cell_type": "code",
   "execution_count": 5,
   "metadata": {},
   "outputs": [],
   "source": [
    "df['State'] = df['Location'].str.split(',').str[1]"
   ]
  },
  {
   "cell_type": "code",
   "execution_count": 6,
   "metadata": {},
   "outputs": [],
   "source": [
    "df['State'] = df['State'].str.replace(' ','')"
   ]
  },
  {
   "cell_type": "code",
   "execution_count": 13,
   "metadata": {},
   "outputs": [
    {
     "data": {
      "image/png": "[encoded data removed]",
      "text/plain": [
       "<Figure size 432x288 with 1 Axes>"
      ]
     },
     "metadata": {},
     "output_type": "display_data"
    }
   ],
   "source": [
    "p1 = df['Franchising'].value_counts().plot(kind='pie', labels=df['Franchising'],autopct='%1.1f%%', title='Percentage of franchised restaurants')"
   ]
  },
  {
   "cell_type": "code",
   "execution_count": null,
   "metadata": {},
   "outputs": [],
   "source": []
  },
  {
   "cell_type": "code",
   "execution_count": null,
   "metadata": {},
   "outputs": [],
   "source": []
  }
 ],
 "metadata": {
  "kernelspec": {
   "display_name": "Python 3",
   "language": "python",
   "name": "python3"
  },
  "language_info": {
   "codemirror_mode": {
    "name": "ipython",
    "version": 3
   },
   "file_extension": ".py",
   "mimetype": "text/x-python",
   "name": "python",
   "nbconvert_exporter": "python",
   "pygments_lexer": "ipython3",
   "version": "3.8.6"
  }
 },
 "nbformat": 4,
 "nbformat_minor": 4
}
