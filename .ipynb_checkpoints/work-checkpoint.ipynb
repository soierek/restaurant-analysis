{
 "cells": [
  {
   "cell_type": "code",
   "execution_count": 1,
   "metadata": {},
   "outputs": [],
   "source": [
    "import pandas as pd\n",
    "import numpy as np\n",
    "import matplotlib.pyplot as plt"
   ]
  },
  {
   "cell_type": "code",
   "execution_count": 2,
   "metadata": {},
   "outputs": [],
   "source": [
    "df = pd.read_csv(\"data/Future50.csv\")"
   ]
  },
  {
   "cell_type": "code",
   "execution_count": 3,
   "metadata": {},
   "outputs": [
    {
     "name": "stdout",
     "output_type": "stream",
     "text": [
      "<class 'pandas.core.frame.DataFrame'>\n",
      "RangeIndex: 50 entries, 0 to 49\n",
      "Data columns (total 9 columns):\n",
      " #   Column       Non-Null Count  Dtype \n",
      "---  ------       --------------  ----- \n",
      " 0   Rank         50 non-null     int64 \n",
      " 1   Restaurant   50 non-null     object\n",
      " 2   Location     50 non-null     object\n",
      " 3   Sales        50 non-null     int64 \n",
      " 4   YOY_Sales    50 non-null     object\n",
      " 5   Units        50 non-null     int64 \n",
      " 6   YOY_Units    50 non-null     object\n",
      " 7   Unit_Volume  50 non-null     int64 \n",
      " 8   Franchising  50 non-null     object\n",
      "dtypes: int64(4), object(5)\n",
      "memory usage: 2.6+ KB\n"
     ]
    }
   ],
   "source": [
    "df.info()"
   ]
  },
  {
   "cell_type": "code",
   "execution_count": 4,
   "metadata": {},
   "outputs": [
    {
     "data": {
      "text/plain": [
       "['Rank',\n",
       " 'Restaurant',\n",
       " 'Location',\n",
       " 'Sales',\n",
       " 'YOY_Sales',\n",
       " 'Units',\n",
       " 'YOY_Units',\n",
       " 'Unit_Volume',\n",
       " 'Franchising']"
      ]
     },
     "execution_count": 4,
     "metadata": {},
     "output_type": "execute_result"
    }
   ],
   "source": [
    "df.head(10)\n",
    "col = list(df.columns.values)\n",
    "col"
   ]
  },
  {
   "cell_type": "code",
   "execution_count": 5,
   "metadata": {},
   "outputs": [
    {
     "name": "stdout",
     "output_type": "stream",
     "text": [
      "<class 'pandas.core.frame.DataFrame'>\n",
      "RangeIndex: 50 entries, 0 to 49\n",
      "Data columns (total 10 columns):\n",
      " #   Column       Non-Null Count  Dtype  \n",
      "---  ------       --------------  -----  \n",
      " 0   Rank         50 non-null     int64  \n",
      " 1   Restaurant   50 non-null     object \n",
      " 2   Location     50 non-null     object \n",
      " 3   Sales        50 non-null     int64  \n",
      " 4   YOY_Sales    50 non-null     float64\n",
      " 5   Units        50 non-null     int64  \n",
      " 6   YOY_Units    50 non-null     float64\n",
      " 7   Unit_Volume  50 non-null     int64  \n",
      " 8   Franchising  50 non-null     object \n",
      " 9   State        50 non-null     object \n",
      "dtypes: float64(2), int64(4), object(4)\n",
      "memory usage: 3.2+ KB\n"
     ]
    }
   ],
   "source": [
    "df['State'] = df['Location'].str.split(',').str[1]\n",
    "df['Location'] = df['Location'].str.split(',').str[0]\n",
    "df['State'] = df['State'].str.replace(' ','')\n",
    "df['YOY_Sales'] = df['YOY_Sales'].str.replace('%','')\n",
    "df['YOY_Units'] = df['YOY_Units'].str.replace('%','')\n",
    "df[['YOY_Sales','YOY_Units']] = df[['YOY_Sales','YOY_Units']].apply(pd.to_numeric)\n",
    "df.info()"
   ]
  },
  {
   "cell_type": "code",
   "execution_count": 6,
   "metadata": {},
   "outputs": [],
   "source": [
    "col.insert(3,'State')\n",
    "df = df[col]"
   ]
  },
  {
   "cell_type": "code",
   "execution_count": 7,
   "metadata": {},
   "outputs": [
    {
     "data": {
      "text/html": [
       "<div>\n",
       "<style scoped>\n",
       "    .dataframe tbody tr th:only-of-type {\n",
       "        vertical-align: middle;\n",
       "    }\n",
       "\n",
       "    .dataframe tbody tr th {\n",
       "        vertical-align: top;\n",
       "    }\n",
       "\n",
       "    .dataframe thead th {\n",
       "        text-align: right;\n",
       "    }\n",
       "</style>\n",
       "<table border=\"1\" class=\"dataframe\">\n",
       "  <thead>\n",
       "    <tr style=\"text-align: right;\">\n",
       "      <th></th>\n",
       "      <th>Rank</th>\n",
       "      <th>Restaurant</th>\n",
       "      <th>Location</th>\n",
       "      <th>State</th>\n",
       "      <th>Sales</th>\n",
       "      <th>YOY_Sales</th>\n",
       "      <th>Units</th>\n",
       "      <th>YOY_Units</th>\n",
       "      <th>Unit_Volume</th>\n",
       "      <th>Franchising</th>\n",
       "    </tr>\n",
       "  </thead>\n",
       "  <tbody>\n",
       "    <tr>\n",
       "      <th>0</th>\n",
       "      <td>1</td>\n",
       "      <td>Evergreens</td>\n",
       "      <td>Seattle</td>\n",
       "      <td>Wash.</td>\n",
       "      <td>24</td>\n",
       "      <td>130.5</td>\n",
       "      <td>26</td>\n",
       "      <td>116.7</td>\n",
       "      <td>1150</td>\n",
       "      <td>No</td>\n",
       "    </tr>\n",
       "    <tr>\n",
       "      <th>1</th>\n",
       "      <td>2</td>\n",
       "      <td>Clean Juice</td>\n",
       "      <td>Charlotte</td>\n",
       "      <td>N.C.</td>\n",
       "      <td>44</td>\n",
       "      <td>121.9</td>\n",
       "      <td>105</td>\n",
       "      <td>94.4</td>\n",
       "      <td>560</td>\n",
       "      <td>Yes</td>\n",
       "    </tr>\n",
       "    <tr>\n",
       "      <th>2</th>\n",
       "      <td>3</td>\n",
       "      <td>Slapfish</td>\n",
       "      <td>Huntington Beach</td>\n",
       "      <td>Calif.</td>\n",
       "      <td>21</td>\n",
       "      <td>81.0</td>\n",
       "      <td>21</td>\n",
       "      <td>90.9</td>\n",
       "      <td>1370</td>\n",
       "      <td>Yes</td>\n",
       "    </tr>\n",
       "    <tr>\n",
       "      <th>3</th>\n",
       "      <td>4</td>\n",
       "      <td>Clean Eatz</td>\n",
       "      <td>Wilmington</td>\n",
       "      <td>N.C.</td>\n",
       "      <td>25</td>\n",
       "      <td>79.7</td>\n",
       "      <td>46</td>\n",
       "      <td>58.6</td>\n",
       "      <td>685</td>\n",
       "      <td>Yes</td>\n",
       "    </tr>\n",
       "    <tr>\n",
       "      <th>4</th>\n",
       "      <td>5</td>\n",
       "      <td>Pokeworks</td>\n",
       "      <td>Irvine</td>\n",
       "      <td>Calif.</td>\n",
       "      <td>49</td>\n",
       "      <td>77.1</td>\n",
       "      <td>50</td>\n",
       "      <td>56.3</td>\n",
       "      <td>1210</td>\n",
       "      <td>Yes</td>\n",
       "    </tr>\n",
       "  </tbody>\n",
       "</table>\n",
       "</div>"
      ],
      "text/plain": [
       "   Rank   Restaurant          Location   State  Sales  YOY_Sales  Units  \\\n",
       "0     1   Evergreens           Seattle   Wash.     24      130.5     26   \n",
       "1     2  Clean Juice         Charlotte    N.C.     44      121.9    105   \n",
       "2     3     Slapfish  Huntington Beach  Calif.     21       81.0     21   \n",
       "3     4   Clean Eatz        Wilmington    N.C.     25       79.7     46   \n",
       "4     5    Pokeworks            Irvine  Calif.     49       77.1     50   \n",
       "\n",
       "   YOY_Units  Unit_Volume Franchising  \n",
       "0      116.7         1150          No  \n",
       "1       94.4          560         Yes  \n",
       "2       90.9         1370         Yes  \n",
       "3       58.6          685         Yes  \n",
       "4       56.3         1210         Yes  "
      ]
     },
     "execution_count": 7,
     "metadata": {},
     "output_type": "execute_result"
    }
   ],
   "source": [
    "df.head(5)"
   ]
  },
  {
   "cell_type": "code",
   "execution_count": 8,
   "metadata": {},
   "outputs": [
    {
     "data": {
      "image/png": "[encoded data removed]",
      "text/plain": [
       "<Figure size 432x288 with 1 Axes>"
      ]
     },
     "metadata": {},
     "output_type": "display_data"
    }
   ],
   "source": [
    "p1 = df['Franchising'].value_counts().plot(kind='pie', labels=df['Franchising'],autopct='%1.1f%%', title='Percentage of franchised restaurants')"
   ]
  },
  {
   "cell_type": "code",
   "execution_count": 9,
   "metadata": {},
   "outputs": [
    {
     "name": "stderr",
     "output_type": "stream",
     "text": [
      "c:\\python\\python38\\lib\\site-packages\\pandas\\plotting\\_matplotlib\\tools.py:400: MatplotlibDeprecationWarning: \n",
      "The is_first_col function was deprecated in Matplotlib 3.4 and will be removed two minor releases later. Use ax.get_subplotspec().is_first_col() instead.\n",
      "  if ax.is_first_col():\n"
     ]
    },
    {
     "data": {
      "text/plain": [
       "<Figure size 432x288 with 0 Axes>"
      ]
     },
     "metadata": {},
     "output_type": "display_data"
    },
    {
     "data": {
      "image/png": "[encoded data removed]",
      "text/plain": [
       "<Figure size 1080x576 with 6 Axes>"
      ]
     },
     "metadata": {
      "needs_background": "light"
     },
     "output_type": "display_data"
    }
   ],
   "source": [
    "plt.figure()\n",
    "df[['Sales','Units','Unit_Volume','YOY_Sales','YOY_Units']].hist(figsize=(15,8), bins=15, linewidth='1.5', edgecolor='k', grid=False)\n",
    "plt.show()"
   ]
  },
  {
   "cell_type": "code",
   "execution_count": 10,
   "metadata": {},
   "outputs": [
    {
     "name": "stdout",
     "output_type": "stream",
     "text": [
      "Rank           1.000000\n",
      "Sales          0.187535\n",
      "YOY_Sales     -0.739141\n",
      "Units         -0.358137\n",
      "YOY_Units     -0.723734\n",
      "Unit_Volume    0.359759\n",
      "Name: Rank, dtype: float64\n"
     ]
    }
   ],
   "source": [
    "correlation = df.corr()['Rank']\n",
    "print(correlation)"
   ]
  },
  {
   "cell_type": "code",
   "execution_count": 11,
   "metadata": {},
   "outputs": [
    {
     "data": {
      "image/png": "[encoded data removed]",
      "text/plain": [
       "<Figure size 432x288 with 1 Axes>"
      ]
     },
     "metadata": {
      "needs_background": "light"
     },
     "output_type": "display_data"
    }
   ],
   "source": [
    "df.plot(kind='scatter', x='Rank', y='YOY_Sales', color='green')\n",
    "plt.xlabel(\"Rank\")\n",
    "plt.ylabel(\"YOY Sales(%)\")\n",
    "plt.show()"
   ]
  },
  {
   "cell_type": "code",
   "execution_count": 12,
   "metadata": {},
   "outputs": [
    {
     "data": {
      "image/png": "[encoded data removed]",
      "text/plain": [
       "<Figure size 432x288 with 1 Axes>"
      ]
     },
     "metadata": {
      "needs_background": "light"
     },
     "output_type": "display_data"
    }
   ],
   "source": [
    "df.plot(kind='scatter', x='Rank', y='YOY_Units', color='green')\n",
    "plt.xlabel(\"Rank\")\n",
    "plt.ylabel(\"YOY Units(%)\")\n",
    "plt.show()"
   ]
  },
  {
   "cell_type": "code",
   "execution_count": 13,
   "metadata": {},
   "outputs": [
    {
     "data": {
      "image/png": "[encoded data removed]",
      "text/plain": [
       "<Figure size 432x288 with 1 Axes>"
      ]
     },
     "metadata": {},
     "output_type": "display_data"
    }
   ],
   "source": [
    "p1 = df['State'].value_counts()[:10].plot(kind='pie',autopct='%1.1f%%', title='Percentage of top restaurants according to a state')"
   ]
  },
  {
   "cell_type": "code",
   "execution_count": 14,
   "metadata": {},
   "outputs": [
    {
     "data": {
      "text/plain": [
       "Calif.    10\n",
       "N.Y.       8\n",
       "Ohio       4\n",
       "Ga.        3\n",
       "Fla.       3\n",
       "N.C.       3\n",
       "Texas      3\n",
       "Pa.        2\n",
       "N.J.       2\n",
       "Va.        1\n",
       "Name: State, dtype: int64"
      ]
     },
     "execution_count": 14,
     "metadata": {},
     "output_type": "execute_result"
    }
   ],
   "source": []
  },
  {
   "cell_type": "code",
   "execution_count": null,
   "metadata": {},
   "outputs": [],
   "source": []
  }
 ],
 "metadata": {
  "kernelspec": {
   "display_name": "Python 3",
   "language": "python",
   "name": "python3"
  },
  "language_info": {
   "codemirror_mode": {
    "name": "ipython",
    "version": 3
   },
   "file_extension": ".py",
   "mimetype": "text/x-python",
   "name": "python",
   "nbconvert_exporter": "python",
   "pygments_lexer": "ipython3",
   "version": "3.8.6"
  }
 },
 "nbformat": 4,
 "nbformat_minor": 4
}
